{
  "nbformat": 4,
  "nbformat_minor": 0,
  "metadata": {
    "colab": {
      "provenance": [],
      "authorship_tag": "ABX9TyOKboq7UlpZzHmFeYuS6t/1",
      "include_colab_link": true
    },
    "kernelspec": {
      "name": "python3",
      "display_name": "Python 3"
    },
    "language_info": {
      "name": "python"
    }
  },
  "cells": [
    {
      "cell_type": "markdown",
      "metadata": {
        "id": "view-in-github",
        "colab_type": "text"
      },
      "source": [
        "<a href=\"https://colab.research.google.com/github/samgab02/AI_Course_Road2/blob/main/hw1.ipynb\" target=\"_parent\"><img src=\"https://colab.research.google.com/assets/colab-badge.svg\" alt=\"Open In Colab\"/></a>"
      ]
    },
    {
      "cell_type": "code",
      "source": [
        "import numpy as np\n",
        "import matplotlib.pyplot as plt\n",
        "from matplotlib.animation import FuncAnimation\n",
        "from IPython.display import HTML\n",
        "\n",
        "def update(frame):\n",
        "    global matrix, gray_matrix, ax, im, rect, circle\n",
        "\n",
        "    # Clear the previous frame and patches\n",
        "    matrix = np.zeros((100, 100), dtype=np.uint8)\n",
        "    for patch in [rect, circle]:\n",
        "        patch.remove()\n",
        "\n",
        "    # Calculate the new position of the gray matrix\n",
        "    start_row = max(0, frame)\n",
        "    end_row = min(100, frame + 10)\n",
        "    start_col = max(0, frame)\n",
        "    end_col = min(100, frame + 10)\n",
        "\n",
        "    gray_rows = min(end_row - start_row, gray_matrix.shape[0])\n",
        "    gray_cols = min(end_col - start_col, gray_matrix.shape[1])\n",
        "\n",
        "    matrix[start_row:end_row, start_col:end_col] = gray_matrix[:gray_rows, :gray_cols]\n",
        "\n",
        "    # Draw the bounding box (red rectangle)\n",
        "    rect = plt.Rectangle((start_col, start_row), gray_cols, gray_rows, linewidth=1, edgecolor='red', facecolor='none')\n",
        "    ax.add_patch(rect)\n",
        "\n",
        "    # Calculate and draw the centroid (red circle)\n",
        "    centroid_row = (start_row + end_row) // 2\n",
        "    centroid_col = (start_col + end_col) // 2\n",
        "    circle = plt.Circle((centroid_col, centroid_row), 1, color='red', fill=True)\n",
        "    ax.add_patch(circle)\n",
        "\n",
        "    # Update the plot\n",
        "    im.set_array(matrix)\n",
        "    return [im, rect, circle]\n",
        "\n",
        "# Create a 100x100 matrix of zeros (black pixels)\n",
        "matrix = np.zeros((100, 100), dtype=np.uint8)\n",
        "\n",
        "# Create a 10x10 matrix of 128 (gray) pixels\n",
        "gray_value = 128\n",
        "gray_matrix = np.full((10, 10), gray_value, dtype=np.uint8)\n",
        "\n",
        "# Set up the initial plot\n",
        "fig, ax = plt.subplots()\n",
        "im = ax.imshow(matrix, cmap='gray', vmin=0, vmax=255, extent=(0, 100, 100, 0))\n",
        "\n",
        "# Initialize patches\n",
        "rect = plt.Rectangle((0, 0), 0, 0, linewidth=1, edgecolor='red', facecolor='none')\n",
        "circle = plt.Circle((0, 0), 1, color='red', fill=True)\n",
        "ax.add_patch(rect)\n",
        "ax.add_patch(circle)\n",
        "\n",
        "# Create the animation\n",
        "animation = FuncAnimation(fig, update, frames=90, interval=50, blit=True)\n",
        "\n",
        "# Display the animation in a Google Colab notebook\n",
        "HTML(animation.to_jshtml())\n"
      ],
      "metadata": {
        "id": "E6XpuNES0uMP"
      },
      "execution_count": 45,
      "outputs": []
    }
  ]
}